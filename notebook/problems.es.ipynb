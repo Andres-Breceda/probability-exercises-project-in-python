{
 "cells": [
  {
   "cell_type": "markdown",
   "id": "a41f3622",
   "metadata": {},
   "source": [
    "# Ejercicios de probabilidad"
   ]
  },
  {
   "cell_type": "markdown",
   "id": "a6bdbd89",
   "metadata": {},
   "source": [
    "## Ejercicio 1 \n",
    "\n",
    "Dos dados se lanzan una vez y se observa el total obtenido. Usa una simulación para encontrar la probabilidad estimada de que la puntuación sea mayor a 7 o un número par. Una simulación es una repetición del mismo experimento multiples veces para observar su comportamiento:\n",
    "\n",
    "- Ejecuta el experimento 1000 veces (lanza 2 dados 1000 veces, y suma el número de ambos dados).\n",
    "- Lleva ua cuenta de los números y las veces que la suma fue mayor a 7 o un número par.\n",
    "- Divide el número del paso 2 entre el número de iteraciones(1000)."
   ]
  },
  {
   "cell_type": "code",
   "execution_count": 15,
   "id": "8939d892",
   "metadata": {},
   "outputs": [
    {
     "name": "stdout",
     "output_type": "stream",
     "text": [
      "La probabilidad de obtener un número par o mayor que 7 es:  67.5 %\n"
     ]
    }
   ],
   "source": [
    "import numpy as np\n",
    "import pandas as pd\n",
    "import random\n",
    "import matplotlib.pyplot as plt\n",
    "\n",
    "dado1 = []\n",
    "dado2 = []\n",
    "suma = []\n",
    "\n",
    "#Funcion de la tirada de dados\n",
    "def dados(tiradas):\n",
    "    \n",
    "    probabilidad = 0\n",
    "    for n in range(tiradas):\n",
    "        dado1.append(random.randint(1,6)) \n",
    "        dado2.append(random.randint(1,6))\n",
    "        suma.append(dado1[n] + dado2[n])\n",
    "        if (suma[n] % 2 == 0)or (suma[n] > 7) :\n",
    "              probabilidad += 1\n",
    "        else:\n",
    "              continue\n",
    "    return (probabilidad/tiradas)*100\n",
    "tiradas = 1000   \n",
    "resultado = dados(tiradas)\n",
    "print(\"La probabilidad de obtener un número par o mayor que 7 es: \",resultado,\"%\")\n"
   ]
  },
  {
   "cell_type": "markdown",
   "id": "55732bca",
   "metadata": {},
   "source": [
    "## Ejercicio 2\n",
    "\n",
    "Una caja contiene 10 bolas blancas, 20 bolas rojas y 30 bolas verdes. Si tomamos 5 bolas de la caja reemplazándolas (tomando una bola, anotando el color y luego regresandola a la caja). Queremos saber la probabilidad de:\n",
    "\n",
    "1. Tomar 3 blancas y 2 rojas.\n",
    "2. Toas todas del mismo color.\n",
    "\n",
    "Ejecuta el experimento 1000 veces y calcula las probabilidades que mencionadas."
   ]
  },
  {
   "cell_type": "code",
   "execution_count": 229,
   "id": "23244d20",
   "metadata": {},
   "outputs": [
    {
     "name": "stdout",
     "output_type": "stream",
     "text": [
      "La probabilidad de que salgan 3 bolas blancas y dos rojas haciendo el experimento 1000 veces es de 0.8 %\n",
      "La probabilidad de que salgan las bolas del mismo color es  4.3 %\n"
     ]
    }
   ],
   "source": [
    "\n",
    "# Create the box of balls\n",
    "def ejercicio2 (veces):\n",
    "    ball_box = {}\n",
    "    evento = 0\n",
    "    evento2 = 0\n",
    "\n",
    "    #Generamos las 60 bolas\n",
    "    for i in range(60):\n",
    "        if i < 10:\n",
    "           ball_box[i] = \"White\"\n",
    "        elif (i > 9) and (i < 30):\n",
    "           ball_box[i] = \"Red\"\n",
    "        else:\n",
    "           ball_box[i] = \"Green\"\n",
    "\n",
    "    # ciclo for para la cantidad de veces que vamos a realizar el experimento\n",
    "    for _ in range(veces):\n",
    "        resultado= []     \n",
    "        asierto1 = 0\n",
    "        asierto2 = 0\n",
    "        for n in range(5):\n",
    "            bola = random.choice(list(ball_box.keys()))\n",
    "            resultado.append(ball_box[bola])\n",
    "    #verificamos el color de las 5 bolas\n",
    "        for i in resultado:\n",
    "            if i == \"White\" :\n",
    "               asierto1 +=1\n",
    "            elif i == \"Red\":\n",
    "               asierto2 +=1\n",
    "            else:\n",
    "               pass\n",
    "\n",
    "    #Si los objetos de la lista todos son iguales devuelve true\n",
    "        if len(set(resultado)) == 1:\n",
    "           evento2 += 1\n",
    "        else:\n",
    "           \n",
    "     #Dentro de cada experimento vemos si se cumple que sean 3 blancas y dos rojas y reiniciamos variables\n",
    "           if asierto1 == 3 and asierto2 ==2:\n",
    "              evento += 1 \n",
    "              \n",
    "           else:\n",
    "              pass\n",
    "            \n",
    "       # print(str(asierto1), str(asierto2))\n",
    "\n",
    "        \n",
    "   \n",
    "  \n",
    "    return (evento/veces)*100 , (evento2/veces)*100\n",
    "    \n",
    "resultado, resultado2 = ejercicio2(1000)\n",
    "print(f\"La probabilidad de que salgan 3 bolas blancas y dos rojas haciendo el experimento 1000 veces es de\", resultado,\"%\")\n",
    "print(f\"La probabilidad de que salgan las bolas del mismo color es \", resultado2,\"%\")\n",
    "\n",
    "\n"
   ]
  }
 ],
 "metadata": {
  "kernelspec": {
   "display_name": "Python 3",
   "language": "python",
   "name": "python3"
  },
  "language_info": {
   "codemirror_mode": {
    "name": "ipython",
    "version": 3
   },
   "file_extension": ".py",
   "mimetype": "text/x-python",
   "name": "python",
   "nbconvert_exporter": "python",
   "pygments_lexer": "ipython3",
   "version": "3.11.4"
  }
 },
 "nbformat": 4,
 "nbformat_minor": 5
}
